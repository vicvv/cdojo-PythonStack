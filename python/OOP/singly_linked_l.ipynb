{
 "cells": [
  {
   "cell_type": "code",
   "execution_count": 1,
   "metadata": {},
   "outputs": [
    {
     "ename": "IndentationError",
     "evalue": "expected an indented block (<ipython-input-1-a2cb9eea8cd4>, line 56)",
     "output_type": "error",
     "traceback": [
      "\u001b[0;36m  File \u001b[0;32m\"<ipython-input-1-a2cb9eea8cd4>\"\u001b[0;36m, line \u001b[0;32m56\u001b[0m\n\u001b[0;31m    if __name__=='__main__':\u001b[0m\n\u001b[0m                             ^\u001b[0m\n\u001b[0;31mIndentationError\u001b[0m\u001b[0;31m:\u001b[0m expected an indented block\n"
     ]
    }
   ],
   "source": [
    "# Python implementation of the approach \n",
    "\n",
    "# Node class \n",
    "class Node: \n",
    "    def __init__(self, data): \n",
    "\t\tself.data = data \n",
    "\t\tself.next = None\n",
    "\n",
    "# Function to push the new node \n",
    "# to head of the linked list \n",
    "def push(head, data): \n",
    "\n",
    "\t# If head is null return new node as head \n",
    "\tif not head: \n",
    "\t\treturn Node(data) \n",
    "\ttemp = Node(data) \n",
    "\ttemp.next = head \n",
    "\thead = temp \n",
    "\treturn head \n",
    "\n",
    "# Function to find the sum of all odd \n",
    "# frequency nodes of the linked list \n",
    "def sumOfOddFreqEle(head): \n",
    "\n",
    "\t# Hash to store the frequencies of \n",
    "\t# the nodes of the linked list \n",
    "\tmp ={} \n",
    "\ttemp = head \n",
    "\twhile(temp): \n",
    "\t\td = temp.data \n",
    "\t\tif d in mp: \n",
    "\t\t\tmp[d]= mp.get(d)+1\n",
    "\t\telse: \n",
    "\t\t\tmp[d]= 1\n",
    "\t\ttemp = temp.next\n",
    "\t\n",
    "\t# Initialize total_sum as zero \n",
    "\ttotal_sum = 0\n",
    "\n",
    "\t# Traverse through the map to get the sum \n",
    "\tfor digit in mp: \n",
    "\n",
    "\t\t# keep tracking the to \n",
    "\t\ttms = mp.get(digit) \n",
    "\n",
    "\t\t# If it appears for odd number of \n",
    "\t\t# times then add it to the sum \n",
    "\t\tif tms % 2 == 1: \n",
    "\t\t\ttotal_sum+=(tms * digit) \n",
    "\treturn total_sum \n",
    "\n",
    "\tdef sum_recursive(head):\n",
    "\t\t\n",
    "\n",
    "# Driver code \n",
    "if __name__=='__main__': \n",
    "\thead = None\n",
    "\thead = push(head, 8) \n",
    "\thead = push(head, 2) \n",
    "\thead = push(head, 1) \n",
    "\thead = push(head, 4) \n",
    "\thead = push(head, 1) \n",
    "\thead = push(head, 8) \n",
    "\thead = push(head, 8) \n",
    "\n",
    "\tprint(sumOfOddFreqEle(head))"
   ]
  },
  {
   "cell_type": "code",
   "execution_count": null,
   "metadata": {},
   "outputs": [],
   "source": []
  }
 ],
 "metadata": {
  "kernelspec": {
   "display_name": "Python 3",
   "language": "python",
   "name": "python3"
  },
  "language_info": {
   "codemirror_mode": {
    "name": "ipython",
    "version": 3
   },
   "file_extension": ".py",
   "mimetype": "text/x-python",
   "name": "python",
   "nbconvert_exporter": "python",
   "pygments_lexer": "ipython3",
   "version": "3.6.8"
  }
 },
 "nbformat": 4,
 "nbformat_minor": 2
}
