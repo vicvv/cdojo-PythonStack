{
 "cells": [
  {
   "cell_type": "code",
   "execution_count": 12,
   "metadata": {},
   "outputs": [
    {
     "name": "stdout",
     "output_type": "stream",
     "text": [
      "category 1\n",
      "category 1\n"
     ]
    }
   ],
   "source": [
    "mylist = [{'name': 'B', 'price': 5, 'category': 5},\n",
    "          {'name': 'C', 'price': 2, 'category': 1},\n",
    "          {'name': 'A', 'price': 15, 'category': 3},\n",
    "          {'name': 'D', 'price': 25, 'category': 1}]\n",
    "\n",
    "for dict in mylist:\n",
    "    for key, value in dict.items():\n",
    "        if key == \"category\" and value == 1:\n",
    "            print (key, value)\n",
    "        \n",
    "        \n",
    "       "
   ]
  },
  {
   "cell_type": "code",
   "execution_count": 11,
   "metadata": {},
   "outputs": [
    {
     "name": "stdout",
     "output_type": "stream",
     "text": [
      "5d73e6305d038b1052e60c52 vicky\n"
     ]
    }
   ],
   "source": [
    "mydict = { \"id\": \"5d73e6305d038b1052e60c52\", \n",
    "          \"name\": 'vicky', \n",
    "          \"quote\": \"ok\",\n",
    "          \n",
    "         }\n",
    "\n",
    "\n",
    "\n",
    "print(mydict['id'], mydict['name'])\n"
   ]
  },
  {
   "cell_type": "code",
   "execution_count": 13,
   "metadata": {},
   "outputs": [
    {
     "name": "stdout",
     "output_type": "stream",
     "text": [
      "dict_keys(['name', 'price', 'category'])\n",
      "name\n",
      "price\n",
      "category\n"
     ]
    }
   ],
   "source": [
    "print(mylist[0].keys())\n",
    "\n",
    "for key in mylist[0].keys():\n",
    "    print(key)"
   ]
  },
  {
   "cell_type": "code",
   "execution_count": null,
   "metadata": {},
   "outputs": [],
   "source": [
    "for dict in users:\n",
    "    #print(\", \".join(str(key) + \" - \" + str(value) for key, value in dict.items()))\n",
    "    #print(\"<tr>\")\n",
    "    mylist = [\" \".join(str(value)for key, value in dict.items())]\n",
    "    print(mylist)\n",
    "    print(\"<td>\",\" \".join(str(value)for key, value in dict.items()),\"</td>\")"
   ]
  },
  {
   "cell_type": "code",
   "execution_count": null,
   "metadata": {},
   "outputs": [],
   "source": [
    "users = [\n",
    "   {'first_name' : 'Michael', \n",
    "    'last_name' : 'Alast'},\n",
    "    \n",
    "   {'first_name' : 'Who', \n",
    "    'last_name' : 'Teachez'},\n",
    "]\n",
    "\n",
    "\n",
    "# for dict in users:\n",
    "#     mylist = []\n",
    "#     for key in dict:       \n",
    "#         result = \" \".join(str(value) for key, value in dict.items())\n",
    "#         #print(result)\n",
    "#         mylist.append(result)\n",
    "       \n",
    "        \n",
    "# print(mylist)     \n",
    "\n",
    "for user in users: print('{first_name}, {last_name}, {first_name} {last_name}'.format_map(user))       "
   ]
  },
  {
   "cell_type": "code",
   "execution_count": null,
   "metadata": {},
   "outputs": [],
   "source": [
    "for dict in users:\n",
    "    print(' '.join(' '.join((k, str(v))) for k,v in dict.items()))"
   ]
  },
  {
   "cell_type": "code",
   "execution_count": null,
   "metadata": {},
   "outputs": [],
   "source": [
    "mydict={\"hey\": 1, \"nay\" : 2}\n",
    "\n",
    "mydict[\"hello\"] = mydict[\"hey\"]\n",
    "del mydict[\"hey\"]\n",
    "\n",
    "\n",
    "print(mydict)"
   ]
  },
  {
   "cell_type": "code",
   "execution_count": null,
   "metadata": {},
   "outputs": [],
   "source": [
    "mystr = \"hello\"\n",
    "myrevstr = mystr[::-1]\n",
    "print(myrevstr)"
   ]
  },
  {
   "cell_type": "code",
   "execution_count": null,
   "metadata": {},
   "outputs": [],
   "source": []
  },
  {
   "cell_type": "code",
   "execution_count": null,
   "metadata": {},
   "outputs": [],
   "source": [
    "mylist = [1,2,3,4,5]\n",
    "start = 1\n",
    "\n",
    "def popMe(lst,start):\n",
    "    for i in range(len(lst) - 1 - start):\n",
    "        lst[start + i] = lst[start + i + 1]\n",
    "        #lst[start + i] , lst[start + i + 1] = lst[start + i + 1], lst[start + i]\n",
    "    lst.pop()   \n",
    "    return lst\n",
    "\n",
    "newlist = popMe(mylist, start)\n",
    "print(newlist)"
   ]
  },
  {
   "cell_type": "code",
   "execution_count": null,
   "metadata": {},
   "outputs": [],
   "source": [
    "{%for items in session['gameresult']%}\n",
    "    items['color'] items['result']\n",
    "    \n",
    "{% endfor %}\n"
   ]
  },
  {
   "cell_type": "code",
   "execution_count": null,
   "metadata": {},
   "outputs": [],
   "source": [
    " {% for user in users %}\n",
    "            <tr><td>{{ user['first_name'] }}</td> <td>{{ user['last_name'] }}</td><td>{{ user['first_name'] }} {{ user['last_name'] }}</td></tr>\n",
    "            {% endfor %}"
   ]
  },
  {
   "cell_type": "code",
   "execution_count": null,
   "metadata": {},
   "outputs": [],
   "source": [
    "<p class=\"card-text\" >{{session['gameresult']}}</p>"
   ]
  },
  {
   "cell_type": "code",
   "execution_count": null,
   "metadata": {},
   "outputs": [],
   "source": [
    "{request.form['building']:{}"
   ]
  },
  {
   "cell_type": "code",
   "execution_count": null,
   "metadata": {},
   "outputs": [],
   "source": [
    "mylist=[{'id': 2, 'name': 'asdasd', 'email': 'asdasdasd@email.com'}]"
   ]
  },
  {
   "cell_type": "code",
   "execution_count": null,
   "metadata": {},
   "outputs": [],
   "source": [
    "for item in mylist:\n",
    "    print(item['id'])"
   ]
  },
  {
   "cell_type": "code",
   "execution_count": null,
   "metadata": {},
   "outputs": [],
   "source": [
    "if item in mylist:\n",
    "    print(item)"
   ]
  },
  {
   "cell_type": "code",
   "execution_count": null,
   "metadata": {},
   "outputs": [],
   "source": [
    "# how to hack the password!\n",
    "\n",
    "import hashlib\n",
    "import os,binascii\n",
    "salt = \"234ewerw5wer123231c\"\n",
    "\n",
    "usertabele = {\"efhlkjlkdjflkdj \" : \"Kermit\"}\n",
    "\n",
    "password_to_check = ['password',\"letmein\", \"password123\"]\n",
    "\n",
    "for password in password_to_check:\n",
    "    if hashlib.md5((password + salt).encode()).hexdigest() in usertabele:\n",
    "        print(\"found a password\", password)\n",
    "        "
   ]
  },
  {
   "cell_type": "code",
   "execution_count": null,
   "metadata": {},
   "outputs": [],
   "source": [
    "myd =[\n",
    "    {'email': 'vicky@vicky.com'}\n",
    "]\n",
    "if 'vicky@vicky.com' in myd[0]['email']:\n",
    "    print(\"ok\")\n",
    "else:\n",
    "    print(\"nok\")"
   ]
  },
  {
   "cell_type": "code",
   "execution_count": null,
   "metadata": {},
   "outputs": [],
   "source": [
    "name =\"Laura\"\n",
    "if not name.isalpha():\n",
    "    print(\"notok\")\n",
    "else:\n",
    "    print(\"ok\")"
   ]
  },
  {
   "cell_type": "code",
   "execution_count": null,
   "metadata": {},
   "outputs": [],
   "source": [
    "from time import gmtime, strftime\n",
    "context = {\"time\": strftime(\"%Y-%m-%d %H:%M %p\", gmtime())}\n",
    "print(context['time'])"
   ]
  },
  {
   "cell_type": "code",
   "execution_count": null,
   "metadata": {},
   "outputs": [],
   "source": [
    "from random import randint\n",
    "data = {\n",
    "        'farm':randint(10,21),\n",
    "        'cave':randint(5,11),\n",
    "        'house': randint(2,11),\n",
    "        'casino': randint(-50, 51),     \n",
    "    }\n",
    "\n",
    "if 'farm' in data:\n",
    "    print(data['farm'])"
   ]
  },
  {
   "cell_type": "code",
   "execution_count": 11,
   "metadata": {},
   "outputs": [
    {
     "name": "stdout",
     "output_type": "stream",
     "text": [
      "dict_keys(['500'])\n"
     ]
    }
   ],
   "source": [
    " data = [\n",
    "        {'500' : (\"\",\"visible\",\"You Won!\",\"text-success\")},\n",
    "        {'-1' : (\"\",\"visible\",\"You lost!\",\"text-danger\")},\n",
    "            ]\n",
    "    \n",
    "print(data[0].keys())\n",
    "\n"
   ]
  },
  {
   "cell_type": "code",
   "execution_count": 110,
   "metadata": {},
   "outputs": [
    {
     "name": "stdout",
     "output_type": "stream",
     "text": [
      "[10, 50]\n",
      "2 i: 0 total: 10 10\n",
      "1 i: 1 total: 40 arr[i]: 50 arr[i - 1]: 10\n",
      "tot: 40\n"
     ]
    }
   ],
   "source": [
    "rome= 'XL'\n",
    "#rome= 'VI'\n",
    "dict = {'I':1, 'V':5, 'X':10, 'L':50, 'C':100, 'D':500, 'M':1000}\n",
    "\n",
    "arr=[]\n",
    "for n in rome:\n",
    "    if n in dict:\n",
    "        arr.append(dict[n])\n",
    "        \n",
    "total = 0       \n",
    "print(arr)\n",
    "\n",
    "for i in range(len(arr)):\n",
    "    if i > 0 and arr[i] > arr[i - 1]:\n",
    "        total += arr[i] - 2*arr[i - 1]\n",
    "        print(\"1\",\"i:\",i,\"total:\",total, \"arr[i]:\",arr[i], \"arr[i - 1]:\",arr[i - 1])\n",
    "    else:\n",
    "        total += arr[i]\n",
    "        print(\"2\",\"i:\",i,\"total:\",total,arr[i])\n",
    "    \n",
    "print(\"tot:\",total)\n",
    "'''thew logic behind above is that is the following element is bigger than previous we should multiply the previous \n",
    "element by 2 which is dictated by the math and substruct it from the total result'''\n",
    "'XX I V'\n",
    "x=1\n",
    "10 + 10 + 1 + 5 - 2(x)\n",
    "21 -> 24\n",
    "x = 1\n",
    "5 - x = 3\n",
    "\n",
    "'XXVI'\n",
    "\"XIX\"\n",
    "    \n",
    "\n",
    "    "
   ]
  },
  {
   "cell_type": "code",
   "execution_count": 127,
   "metadata": {},
   "outputs": [
    {
     "name": "stdout",
     "output_type": "stream",
     "text": [
      "IIVLX\n",
      "2 0 -1 1\n",
      "2 1 -2 1\n",
      "1 2 3 5\n",
      "1 3 53 50\n",
      "2 4 43 10\n",
      "43\n"
     ]
    }
   ],
   "source": [
    "rome= 'XLVII'\n",
    "#rome= 'VI'\n",
    "dict = {'I':1, 'V':5, 'X':10, 'L':50, 'C':100, 'D':500, 'M':1000}\n",
    "\n",
    "rome = rome[::-1]\n",
    "print(rome)\n",
    "\n",
    "total=0\n",
    "for i in range(len(rome)):\n",
    "    if dict[rome[i]] > dict[rome[i-1]]:\n",
    "        total += dict[rome[i]]\n",
    "        print(\"1\",i,total,dict[rome[i]])\n",
    "    else:\n",
    "        total += -dict[rome[i]]\n",
    "        print(\"2\",i,total,dict[rome[i]])\n",
    "    \n",
    "print(total)\n",
    "        \n",
    "        "
   ]
  },
  {
   "cell_type": "code",
   "execution_count": null,
   "metadata": {},
   "outputs": [],
   "source": []
  },
  {
   "cell_type": "code",
   "execution_count": null,
   "metadata": {},
   "outputs": [],
   "source": []
  },
  {
   "cell_type": "code",
   "execution_count": 107,
   "metadata": {},
   "outputs": [
    {
     "name": "stdout",
     "output_type": "stream",
     "text": [
      "2 totoal: 10 n: 0 X L\n",
      "1 totoal: 40 n: 1 L X\n",
      "40\n"
     ]
    }
   ],
   "source": [
    "rome1= 'XLVII'\n",
    "rome= 'XL'\n",
    "dict = {'I':1, 'V':5, 'X':10, 'L':50, 'C':100, 'D':500, 'M':1000}\n",
    "total = 0\n",
    "for n in range(len(rome)):\n",
    "    \n",
    "    if n > 0 and dict[rome[n]] > dict[rome[n-1]]:\n",
    "        total +=  dict[rome[n]]  - 2 * dict[rome[n-1]]\n",
    "        print(\"1\",\"totoal:\", total,\"n:\",n,rome[n],rome[n-1])\n",
    "    else:\n",
    "        total += dict[rome[n]]\n",
    "        print(\"2\",\"totoal:\", total,\"n:\",n,rome[n],rome[n-1])\n",
    "        \n",
    "        \n",
    "        \n",
    "print(total)"
   ]
  },
  {
   "cell_type": "code",
   "execution_count": 59,
   "metadata": {},
   "outputs": [
    {
     "name": "stdout",
     "output_type": "stream",
     "text": [
      "0 X\n",
      "1 L\n",
      "2 V\n",
      "3 I\n",
      "4 I\n",
      "47\n"
     ]
    }
   ],
   "source": [
    "num = 'XLVII'\n",
    "roman_numerals = {'I':1, 'V':5, 'X':10, 'L':50, 'C':100, 'D':500, 'M':1000}\n",
    "result = 0\n",
    "for i,c in enumerate(num):\n",
    "    print(i,c)\n",
    "    if (i+1) == len(num) or roman_numerals[c] >= roman_numerals[num[i+1]]:\n",
    "        result += roman_numerals[c]\n",
    "    else:\n",
    "        result -= roman_numerals[c]\n",
    "print(result)"
   ]
  },
  {
   "cell_type": "code",
   "execution_count": 75,
   "metadata": {},
   "outputs": [
    {
     "ename": "KeyError",
     "evalue": "1",
     "output_type": "error",
     "traceback": [
      "\u001b[0;31m---------------------------------------------------------------------------\u001b[0m",
      "\u001b[0;31mKeyError\u001b[0m                                  Traceback (most recent call last)",
      "\u001b[0;32m<ipython-input-75-6e6dfdfd4603>\u001b[0m in \u001b[0;36m<module>\u001b[0;34m()\u001b[0m\n\u001b[1;32m      3\u001b[0m \u001b[0mj\u001b[0m\u001b[0;34m=\u001b[0m\u001b[0mi\u001b[0m\u001b[0;34m+\u001b[0m\u001b[0;36m1\u001b[0m\u001b[0;34m\u001b[0m\u001b[0;34m\u001b[0m\u001b[0m\n\u001b[1;32m      4\u001b[0m \u001b[0mx\u001b[0m \u001b[0;34m=\u001b[0m \u001b[0;34m{\u001b[0m\u001b[0;34m'M'\u001b[0m\u001b[0;34m:\u001b[0m \u001b[0;36m1000\u001b[0m\u001b[0;34m,\u001b[0m \u001b[0;34m'D'\u001b[0m\u001b[0;34m:\u001b[0m \u001b[0;36m500\u001b[0m\u001b[0;34m,\u001b[0m \u001b[0;34m'C'\u001b[0m\u001b[0;34m:\u001b[0m \u001b[0;36m100\u001b[0m\u001b[0;34m,\u001b[0m \u001b[0;34m'L'\u001b[0m\u001b[0;34m:\u001b[0m \u001b[0;36m50\u001b[0m\u001b[0;34m,\u001b[0m \u001b[0;34m'X'\u001b[0m\u001b[0;34m:\u001b[0m \u001b[0;36m10\u001b[0m\u001b[0;34m,\u001b[0m \u001b[0;34m'V'\u001b[0m\u001b[0;34m:\u001b[0m \u001b[0;36m5\u001b[0m\u001b[0;34m,\u001b[0m \u001b[0;34m'I'\u001b[0m\u001b[0;34m:\u001b[0m \u001b[0;36m1\u001b[0m\u001b[0;34m}\u001b[0m\u001b[0;34m\u001b[0m\u001b[0;34m\u001b[0m\u001b[0m\n\u001b[0;32m----> 5\u001b[0;31m \u001b[0mprint\u001b[0m\u001b[0;34m(\u001b[0m\u001b[0msum\u001b[0m\u001b[0;34m(\u001b[0m\u001b[0;34m[\u001b[0m\u001b[0mx\u001b[0m\u001b[0;34m[\u001b[0m\u001b[0mi\u001b[0m\u001b[0;34m]\u001b[0m \u001b[0;32mif\u001b[0m \u001b[0mx\u001b[0m\u001b[0;34m[\u001b[0m\u001b[0mi\u001b[0m\u001b[0;34m]\u001b[0m \u001b[0;34m>=\u001b[0m \u001b[0mx\u001b[0m\u001b[0;34m[\u001b[0m\u001b[0mj\u001b[0m\u001b[0;34m]\u001b[0m \u001b[0;32melse\u001b[0m \u001b[0;34m-\u001b[0m\u001b[0mx\u001b[0m\u001b[0;34m[\u001b[0m\u001b[0mi\u001b[0m\u001b[0;34m]\u001b[0m \u001b[0;32mfor\u001b[0m \u001b[0mi\u001b[0m\u001b[0;34m,\u001b[0m \u001b[0mj\u001b[0m \u001b[0;32min\u001b[0m \u001b[0mzip\u001b[0m\u001b[0;34m(\u001b[0m\u001b[0mr\u001b[0m\u001b[0;34m,\u001b[0m \u001b[0mr\u001b[0m\u001b[0;34m[\u001b[0m\u001b[0;36m1\u001b[0m\u001b[0;34m:\u001b[0m\u001b[0;34m]\u001b[0m\u001b[0;34m)\u001b[0m\u001b[0;34m]\u001b[0m\u001b[0;34m)\u001b[0m \u001b[0;34m+\u001b[0m \u001b[0mx\u001b[0m\u001b[0;34m[\u001b[0m\u001b[0mj\u001b[0m\u001b[0;34m]\u001b[0m\u001b[0;34m)\u001b[0m\u001b[0;34m\u001b[0m\u001b[0;34m\u001b[0m\u001b[0m\n\u001b[0m",
      "\u001b[0;31mKeyError\u001b[0m: 1"
     ]
    }
   ],
   "source": [
    "r=\"V\"\n",
    "i=0\n",
    "j=i+1\n",
    "x = {'M': 1000, 'D': 500, 'C': 100, 'L': 50, 'X': 10, 'V': 5, 'I': 1}\n",
    "print(sum([x[i] if x[i] >= x[j] else -x[i] for i, j in zip(r, r[1:])]) + x[j])"
   ]
  },
  {
   "cell_type": "code",
   "execution_count": null,
   "metadata": {},
   "outputs": [],
   "source": []
  },
  {
   "cell_type": "code",
   "execution_count": null,
   "metadata": {},
   "outputs": [],
   "source": []
  },
  {
   "cell_type": "code",
   "execution_count": null,
   "metadata": {},
   "outputs": [],
   "source": []
  },
  {
   "cell_type": "code",
   "execution_count": 50,
   "metadata": {},
   "outputs": [
    {
     "name": "stdout",
     "output_type": "stream",
     "text": [
      "47\n"
     ]
    }
   ],
   "source": [
    "num = 'XLVII'\n",
    "roman_numerals = {'I':1, 'V':5, 'X':10, 'L':50, 'C':100, 'D':500, 'M':1000}\n",
    "result = 0\n",
    "for i,c in enumerate(num):\n",
    "    if (i+1) == len(num) or roman_numerals[c] >= roman_numerals[num[i+1]]:\n",
    "        result += roman_numerals[c]\n",
    "    else:\n",
    "        result -= roman_numerals[c]\n",
    "print(result)"
   ]
  },
  {
   "cell_type": "code",
   "execution_count": 129,
   "metadata": {},
   "outputs": [
    {
     "name": "stdout",
     "output_type": "stream",
     "text": [
      "LVIII\n"
     ]
    }
   ],
   "source": [
    "numerals = { 1 : \"I\", 4 : \"IV\", 5 : \"V\", 9 : \"IX\", 10 : \"X\", 40 : \"XL\",\n",
    "             50 : \"L\", 90 : \"XC\", 100 : \"C\", 400 : \"CD\", 500 : \"D\", 900 : \"CM\", 1000 : \"M\" }\n",
    "\n",
    "num = 58  # LVIII\n",
    "\n",
    "roman = ''\n",
    "\n",
    "for k, v in sorted(numerals.items(), reverse=True):\n",
    "    while num >= k:\n",
    "        roman += v\n",
    "        num -= k\n",
    "\n",
    "print(roman)"
   ]
  },
  {
   "cell_type": "code",
   "execution_count": 31,
   "metadata": {},
   "outputs": [
    {
     "name": "stdout",
     "output_type": "stream",
     "text": [
      "3 2 1 1 1\n"
     ]
    }
   ],
   "source": [
    "num = 366\n",
    "dollars = num//100 \n",
    "quarters = (num - dollars * 100)//25 \n",
    "tenth = (num-dollars*100 - quarters*25)//10\n",
    "fives = (num-dollars*100 - quarters*25 - tenth*10)//5\n",
    "ones = (num-dollars*100 - quarters*25 - tenth*10- fives*5) //1\n",
    "print(dollars, quarters, tenth, fives, ones)\n"
   ]
  },
  {
   "cell_type": "code",
   "execution_count": 49,
   "metadata": {},
   "outputs": [],
   "source": [
    "interests ={\n",
    "    'food': [\"honey\", \"honeycomb\"],\n",
    "    'flowers': [\"honeysuckle\"],\n",
    "    'mysteries': [\"Heffalumps\"],\n",
    "}\n"
   ]
  },
  {
   "cell_type": "code",
   "execution_count": 51,
   "metadata": {},
   "outputs": [
    {
     "name": "stdout",
     "output_type": "stream",
     "text": [
      "honey\n"
     ]
    }
   ],
   "source": [
    "print(interests['food'][0])"
   ]
  },
  {
   "cell_type": "code",
   "execution_count": null,
   "metadata": {},
   "outputs": [],
   "source": []
  }
 ],
 "metadata": {
  "kernelspec": {
   "display_name": "Python 3",
   "language": "python",
   "name": "python3"
  },
  "language_info": {
   "codemirror_mode": {
    "name": "ipython",
    "version": 3
   },
   "file_extension": ".py",
   "mimetype": "text/x-python",
   "name": "python",
   "nbconvert_exporter": "python",
   "pygments_lexer": "ipython3",
   "version": "3.6.8"
  }
 },
 "nbformat": 4,
 "nbformat_minor": 2
}
